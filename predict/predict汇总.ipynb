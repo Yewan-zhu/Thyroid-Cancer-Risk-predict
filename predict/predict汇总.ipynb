{
 "cells": [
  {
   "cell_type": "code",
   "execution_count": 2,
   "metadata": {},
   "outputs": [],
   "source": [
    "import pandas as pd\n",
    "import os\n",
    "\n",
    "# 设置文件夹路径\n",
    "folder_path = r\"E:\\Study\\统计建模\\python\\predict\"  # 替换为你的文件夹路径\n",
    "csv_files = [f for f in os.listdir(folder_path) if f.endswith('.csv')]\n",
    "\n",
    "# 读取第一个CSV作为基准DataFrame\n",
    "base_df = pd.read_csv(os.path.join(folder_path, csv_files[0]))\n",
    "\n",
    "# 横向拼接其他CSV文件\n",
    "for file in csv_files[1:]:\n",
    "    file_path = os.path.join(folder_path, file)\n",
    "    df = pd.read_csv(file_path)\n",
    "    base_df = pd.concat([base_df, df], axis=1)  # axis=1表示按列合并[4,5](@ref)\n",
    "\n",
    "# 保存合并后的结果\n",
    "base_df.to_csv(\"merged_columns.csv\", index=False)"
   ]
  }
 ],
 "metadata": {
  "kernelspec": {
   "display_name": "base",
   "language": "python",
   "name": "python3"
  },
  "language_info": {
   "codemirror_mode": {
    "name": "ipython",
    "version": 3
   },
   "file_extension": ".py",
   "mimetype": "text/x-python",
   "name": "python",
   "nbconvert_exporter": "python",
   "pygments_lexer": "ipython3",
   "version": "3.9.12"
  }
 },
 "nbformat": 4,
 "nbformat_minor": 2
}
